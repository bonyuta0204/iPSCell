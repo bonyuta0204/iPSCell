{
 "cells": [
  {
   "cell_type": "code",
   "execution_count": 1,
   "metadata": {
    "collapsed": true
   },
   "outputs": [],
   "source": [
    "import pandas as pd\n",
    "import numpy as np\n",
    "import matplotlib.pyplot as plt\n",
    "import os\n",
    "import pickle\n",
    "import sys\n",
    "from itertools import product\n",
    "from time import time\n",
    "\n",
    "import numpy as np\n",
    "from sklearn.svm import LinearSVC\n",
    "\n",
    "sys.path.append('/home/share/libraries/bdpy/')\n",
    "import bdpy\n",
    "from bdpy.preproc import select_top\n",
    "from bdpy.ml import add_bias,make_cvindex\n",
    "from bdpy.stats import corrcoef\n",
    "sys.path.append('/home/shirakawa/kspy/')\n",
    "import cal_mean_ci\n",
    "\n",
    "\n",
    "%matplotlib inline"
   ]
  },
  {
   "cell_type": "code",
   "execution_count": 2,
   "metadata": {
    "collapsed": false
   },
   "outputs": [],
   "source": [
    "# loading data\n",
    "atrial = pd.read_csv(\"Atrial.csv\", header=None) # (time *  cell)\n",
    "ventricle = pd.read_csv(\"Ventricle.csv\",header = None) # time * cell)\n",
    "# transposing for training\n",
    "atrial = atrial.T\n",
    "ventricle = ventricle.T\n",
    "# get number of samples \n",
    "[N,c] = np.shape(atrial)\n",
    "[M,C] = np.shape(ventricle)\n",
    "\n",
    "aFPow = np.zeros(4500/2)\n",
    "vFPow = np.zeros(4500/2)\n",
    "featnum = len(aFPow)\n",
    "# get Power Spectrum\n",
    "for i in range(1,N):\n",
    "    \n",
    "    adata = atrial.iloc[i][3:].astype(float)\n",
    "    \n",
    "    F = np.fft.fft(adata)\n",
    "    aF = np.abs(F)**2\n",
    "    aF = aF[:featnum]\n",
    "    aFPow = np.vstack([aFPow,aF])\n",
    "aFPow = aFPow[1:,:]    \n",
    "\n",
    "for i in range(1,M):\n",
    "    \n",
    "    vdata = ventricle.iloc[i][3:].astype(float)\n",
    "    \n",
    "    F = np.fft.fft(vdata)\n",
    "    vF = np.abs(F)**2\n",
    "    vF = vF[:featnum]\n",
    "    vFPow = np.vstack([vFPow,vF])\n",
    "vFPow = vFPow[1:,:]    \n",
    "\n",
    "\n",
    "# get minimum for chance level is 50 % (-1 means datas' index exclude)\n",
    "n = np.min([N-1,M-1])\n"
   ]
  },
  {
   "cell_type": "code",
   "execution_count": 3,
   "metadata": {
    "collapsed": false
   },
   "outputs": [
    {
     "data": {
      "text/plain": [
       "array([[  1.90126170e+08,   1.55418632e+05,   1.85167315e+04, ...,\n",
       "          2.22239374e+04,   1.90116266e+04,   3.04558577e+04],\n",
       "       [  3.44154033e+08,   5.11357962e+04,   2.29775234e+05, ...,\n",
       "          9.39198664e+03,   1.09055871e+02,   3.51801535e+04],\n",
       "       [  2.38433783e+08,   1.86643550e+04,   5.10572314e+04, ...,\n",
       "          1.53405584e+04,   8.98550530e+03,   2.10752940e+02],\n",
       "       ..., \n",
       "       [  2.26790749e+07,   2.68708112e+04,   3.79686991e+04, ...,\n",
       "          2.19035144e+02,   4.55737644e+02,   7.81361528e+02],\n",
       "       [  1.95073547e+07,   5.05256748e+03,   6.52990479e+03, ...,\n",
       "          2.22686921e+03,   2.28175988e+03,   6.54165734e+02],\n",
       "       [  2.84235327e+06,   1.52760870e+04,   1.34527105e+04, ...,\n",
       "          8.63853016e+01,   1.16240073e+01,   2.42807777e+02]])"
      ]
     },
     "execution_count": 3,
     "metadata": {},
     "output_type": "execute_result"
    }
   ],
   "source": [
    "vFPow"
   ]
  },
  {
   "cell_type": "code",
   "execution_count": 45,
   "metadata": {
    "collapsed": false
   },
   "outputs": [
    {
     "name": "stdout",
     "output_type": "stream",
     "text": [
      "100\n",
      "200\n",
      "300\n",
      "400\n",
      "500\n",
      "600\n",
      "700\n",
      "800\n",
      "900\n",
      "1000\n",
      "1100\n",
      "1200\n",
      "1300\n",
      "1400\n",
      "1500\n",
      "1600\n",
      "1700\n",
      "1800\n",
      "1900\n",
      "2000\n",
      "2100\n",
      "2200\n"
     ]
    }
   ],
   "source": [
    "# random select and iteration\n",
    "mean = []\n",
    "std  = []\n",
    "for num in range(1,2250):\n",
    "    if num%100 == 0:\n",
    "        print num\n",
    "    if num < 400 or num % 50 == 0:\n",
    "        for epch in range(10):\n",
    "            # shuffle each order and each number of sample is same\n",
    "            Nind =range(1,N)\n",
    "            Mind = range(1,M)\n",
    "            aFPow_rand = np.random.permutation(aFPow)\n",
    "            vFPow_rand = np.random.permutation(vFPow)\n",
    "            \n",
    "\n",
    "            aFPow_rand = aFPow[:n]\n",
    "            vFPow_rand = vFPow[:n]\n",
    "            #make lable atrial -> 0 ventricle ->1\n",
    "            alabel = np.zeros([n,1])\n",
    "            vlabel = np.ones([n,1])\n",
    "\n",
    "            #make data of label and Poewer spectrum\n",
    "            aData = np.hstack([alabel,aFPow_rand])\n",
    "            vData = np.hstack([vlabel,vFPow_rand])\n",
    "\n",
    "            #create a and v mixed Data\n",
    "            raw_Data = np.vstack([aData,vData])\n",
    "            numacc = []\n",
    "            \n",
    "    \n",
    "            #print ('try feature'+ str(num))\n",
    "            # we select num features\n",
    "            Data = raw_Data[:,:num+1]\n",
    "            # make index for cross validation\n",
    "            index = np.shape(Data)[0]\n",
    "            ind = np.arange(index)\n",
    "            # make cvindex 10-fold cross validation\n",
    "            cvidx = make_cvindex(ind %10)\n",
    "\n",
    "            # do cross validation\n",
    "            accuracy = []\n",
    "            for i in range(10):\n",
    "                trainData = Data[cvidx[0][:,i] == True]\n",
    "                testData = Data[cvidx[1][:,i]== True]\n",
    "                X_train = trainData[:,1:]\n",
    "                y_train = trainData[:,0]\n",
    "                X_test= testData[:,1:]\n",
    "                y_test = testData[:,0]\n",
    "                # normalizing \n",
    "                mu_train = np.mean(X_train,0)\n",
    "                sigma_train = np.std(X_train,0)\n",
    "                X_train_std = (X_train - mu_train)/sigma_train\n",
    "                X_test_std = (X_test - mu_train)/sigma_train\n",
    "                clf =  LinearSVC(random_state= 0)\n",
    "                clf.fit(X_train_std,y_train)\n",
    "                predict = clf.predict(X_test_std)\n",
    "\n",
    "                accuracy.append(clf.score(X_test_std,y_test))\n",
    "            \n",
    "    mean.append(np.mean(accuracy))\n",
    "    std.append(np.std(accuracy))"
   ]
  },
  {
   "cell_type": "code",
   "execution_count": 49,
   "metadata": {
    "collapsed": false
   },
   "outputs": [
    {
     "data": {
      "image/png": "[encoded data removed]",
      "text/plain": [
       "<matplotlib.figure.Figure at 0x7f9b6e1da590>"
      ]
     },
     "metadata": {},
     "output_type": "display_data"
    }
   ],
   "source": [
    "# make figure\n",
    "plt.plot(mean)\n",
    "plt.xlabel('Used Feature(Power Spectrum)')\n",
    "plt.ylabel('Accuracy')\n",
    "plt.title('Linear SVC performance')\n",
    "plt.xlim([0,2250])\n",
    "plt.ylim([0.45,0.73])\n",
    "plt.axhline(0.5,color = 'black',linestyle ='--')\n",
    "plt.savefig('iPS_linearSVC.pdf')"
   ]
  },
  {
   "cell_type": "code",
   "execution_count": 50,
   "metadata": {
    "collapsed": true
   },
   "outputs": [],
   "source": [
    "#save\n",
    "np.save('mean_Linear.npy',mean)\n",
    "np.save('std_Linear.npy',std)"
   ]
  },
  {
   "cell_type": "code",
   "execution_count": 22,
   "metadata": {
    "collapsed": false
   },
   "outputs": [
    {
     "data": {
      "text/plain": [
       "71"
      ]
     },
     "execution_count": 22,
     "metadata": {},
     "output_type": "execute_result"
    }
   ],
   "source": [
    "len(Mind)"
   ]
  },
  {
   "cell_type": "code",
   "execution_count": 25,
   "metadata": {
    "collapsed": false
   },
   "outputs": [],
   "source": [
    "np.random.permutation?"
   ]
  },
  {
   "cell_type": "code",
   "execution_count": 30,
   "metadata": {
    "collapsed": false
   },
   "outputs": [],
   "source": [
    "aFPow_rand = np.random.permutation(aFPow)"
   ]
  },
  {
   "cell_type": "code",
   "execution_count": 31,
   "metadata": {
    "collapsed": false
   },
   "outputs": [
    {
     "data": {
      "text/plain": [
       "[<matplotlib.lines.Line2D at 0x7f9b72a5c350>,\n",
       " <matplotlib.lines.Line2D at 0x7f9b72a5c550>,\n",
       " <matplotlib.lines.Line2D at 0x7f9b72a5c690>,\n",
       " <matplotlib.lines.Line2D at 0x7f9b72a5c7d0>,\n",
       " <matplotlib.lines.Line2D at 0x7f9b72a5c910>,\n",
       " <matplotlib.lines.Line2D at 0x7f9b72a5ca50>,\n",
       " <matplotlib.lines.Line2D at 0x7f9b72a5cb90>,\n",
       " <matplotlib.lines.Line2D at 0x7f9b6bb37350>,\n",
       " <matplotlib.lines.Line2D at 0x7f9b72a5ce10>,\n",
       " <matplotlib.lines.Line2D at 0x7f9b72a5cf50>,\n",
       " <matplotlib.lines.Line2D at 0x7f9b72a530d0>,\n",
       " <matplotlib.lines.Line2D at 0x7f9b72a53210>,\n",
       " <matplotlib.lines.Line2D at 0x7f9b72a53350>,\n",
       " <matplotlib.lines.Line2D at 0x7f9b72a53490>,\n",
       " <matplotlib.lines.Line2D at 0x7f9b72a5ccd0>,\n",
       " <matplotlib.lines.Line2D at 0x7f9b72a53710>,\n",
       " <matplotlib.lines.Line2D at 0x7f9b72a53850>,\n",
       " <matplotlib.lines.Line2D at 0x7f9b72a53990>,\n",
       " <matplotlib.lines.Line2D at 0x7f9b72a53ad0>,\n",
       " <matplotlib.lines.Line2D at 0x7f9b72a53c10>,\n",
       " <matplotlib.lines.Line2D at 0x7f9b72a53d50>,\n",
       " <matplotlib.lines.Line2D at 0x7f9b72a535d0>,\n",
       " <matplotlib.lines.Line2D at 0x7f9b72a53fd0>,\n",
       " <matplotlib.lines.Line2D at 0x7f9b6cf51150>,\n",
       " <matplotlib.lines.Line2D at 0x7f9b6cf51290>,\n",
       " <matplotlib.lines.Line2D at 0x7f9b6cf513d0>,\n",
       " <matplotlib.lines.Line2D at 0x7f9b6cf51510>,\n",
       " <matplotlib.lines.Line2D at 0x7f9b6cf51650>,\n",
       " <matplotlib.lines.Line2D at 0x7f9b72a53e90>,\n",
       " <matplotlib.lines.Line2D at 0x7f9b6cf518d0>,\n",
       " <matplotlib.lines.Line2D at 0x7f9b6cf51a10>,\n",
       " <matplotlib.lines.Line2D at 0x7f9b6cf51b50>,\n",
       " <matplotlib.lines.Line2D at 0x7f9b6cf51c90>,\n",
       " <matplotlib.lines.Line2D at 0x7f9b6cf51dd0>,\n",
       " <matplotlib.lines.Line2D at 0x7f9b6cf51f10>,\n",
       " <matplotlib.lines.Line2D at 0x7f9b6cf51790>,\n",
       " <matplotlib.lines.Line2D at 0x7f9b6cf501d0>,\n",
       " <matplotlib.lines.Line2D at 0x7f9b6cf50310>,\n",
       " <matplotlib.lines.Line2D at 0x7f9b6cf50450>,\n",
       " <matplotlib.lines.Line2D at 0x7f9b6cf50590>,\n",
       " <matplotlib.lines.Line2D at 0x7f9b6cf506d0>,\n",
       " <matplotlib.lines.Line2D at 0x7f9b6cf50810>,\n",
       " <matplotlib.lines.Line2D at 0x7f9b6cf50090>,\n",
       " <matplotlib.lines.Line2D at 0x7f9b6cf50a90>,\n",
       " <matplotlib.lines.Line2D at 0x7f9b6cf50bd0>,\n",
       " <matplotlib.lines.Line2D at 0x7f9b6cf50d10>,\n",
       " <matplotlib.lines.Line2D at 0x7f9b6cf50e50>,\n",
       " <matplotlib.lines.Line2D at 0x7f9b6cf50f90>,\n",
       " <matplotlib.lines.Line2D at 0x7f9b6cf27110>,\n",
       " <matplotlib.lines.Line2D at 0x7f9b6cf50950>,\n",
       " <matplotlib.lines.Line2D at 0x7f9b6cf27390>,\n",
       " <matplotlib.lines.Line2D at 0x7f9b6cf274d0>,\n",
       " <matplotlib.lines.Line2D at 0x7f9b6cf27610>,\n",
       " <matplotlib.lines.Line2D at 0x7f9b6cf27750>,\n",
       " <matplotlib.lines.Line2D at 0x7f9b6cf27890>,\n",
       " <matplotlib.lines.Line2D at 0x7f9b6cf279d0>,\n",
       " <matplotlib.lines.Line2D at 0x7f9b6cf27250>,\n",
       " <matplotlib.lines.Line2D at 0x7f9b6cf27c50>,\n",
       " <matplotlib.lines.Line2D at 0x7f9b6cf27d90>,\n",
       " <matplotlib.lines.Line2D at 0x7f9b6cf27ed0>,\n",
       " <matplotlib.lines.Line2D at 0x7f9b6cf3b050>,\n",
       " <matplotlib.lines.Line2D at 0x7f9b6cf3b190>,\n",
       " <matplotlib.lines.Line2D at 0x7f9b6cf3b2d0>,\n",
       " <matplotlib.lines.Line2D at 0x7f9b6cf27b10>,\n",
       " <matplotlib.lines.Line2D at 0x7f9b6cf3b550>,\n",
       " <matplotlib.lines.Line2D at 0x7f9b6cf3b690>,\n",
       " <matplotlib.lines.Line2D at 0x7f9b6cf3b7d0>,\n",
       " <matplotlib.lines.Line2D at 0x7f9b6cf3b910>,\n",
       " <matplotlib.lines.Line2D at 0x7f9b6cf3ba50>,\n",
       " <matplotlib.lines.Line2D at 0x7f9b6cf3bb90>,\n",
       " <matplotlib.lines.Line2D at 0x7f9b6cf3b410>]"
      ]
     },
     "execution_count": 31,
     "metadata": {},
     "output_type": "execute_result"
    },
    {
     "data": {
      "image/png": "[encoded data removed]",
      "text/plain": [
       "<matplotlib.figure.Figure at 0x7f9b72a46090>"
      ]
     },
     "metadata": {},
     "output_type": "display_data"
    }
   ],
   "source": [
    "plt.plot(aFPow_rand.T)"
   ]
  },
  {
   "cell_type": "code",
   "execution_count": 32,
   "metadata": {
    "collapsed": false
   },
   "outputs": [
    {
     "data": {
      "text/plain": [
       "[<matplotlib.lines.Line2D at 0x7f9b72b64250>,\n",
       " <matplotlib.lines.Line2D at 0x7f9b72b64450>,\n",
       " <matplotlib.lines.Line2D at 0x7f9b72b64590>,\n",
       " <matplotlib.lines.Line2D at 0x7f9b72b646d0>,\n",
       " <matplotlib.lines.Line2D at 0x7f9b72b64810>,\n",
       " <matplotlib.lines.Line2D at 0x7f9b72b64950>,\n",
       " <matplotlib.lines.Line2D at 0x7f9b72b64a90>,\n",
       " <matplotlib.lines.Line2D at 0x7f9b72b9af10>,\n",
       " <matplotlib.lines.Line2D at 0x7f9b72b64d10>,\n",
       " <matplotlib.lines.Line2D at 0x7f9b72b64e50>,\n",
       " <matplotlib.lines.Line2D at 0x7f9b72b64f90>,\n",
       " <matplotlib.lines.Line2D at 0x7f9b72b6f110>,\n",
       " <matplotlib.lines.Line2D at 0x7f9b72b6f250>,\n",
       " <matplotlib.lines.Line2D at 0x7f9b72b6f390>,\n",
       " <matplotlib.lines.Line2D at 0x7f9b72b64bd0>,\n",
       " <matplotlib.lines.Line2D at 0x7f9b72b6f610>,\n",
       " <matplotlib.lines.Line2D at 0x7f9b72b6f750>,\n",
       " <matplotlib.lines.Line2D at 0x7f9b72b6f890>,\n",
       " <matplotlib.lines.Line2D at 0x7f9b72b6f9d0>,\n",
       " <matplotlib.lines.Line2D at 0x7f9b72b6fb10>,\n",
       " <matplotlib.lines.Line2D at 0x7f9b72b6fc50>,\n",
       " <matplotlib.lines.Line2D at 0x7f9b72b6f4d0>,\n",
       " <matplotlib.lines.Line2D at 0x7f9b72b6fed0>,\n",
       " <matplotlib.lines.Line2D at 0x7f9b72b7a050>,\n",
       " <matplotlib.lines.Line2D at 0x7f9b72b7a190>,\n",
       " <matplotlib.lines.Line2D at 0x7f9b72b7a2d0>,\n",
       " <matplotlib.lines.Line2D at 0x7f9b72b7a410>,\n",
       " <matplotlib.lines.Line2D at 0x7f9b72b7a550>,\n",
       " <matplotlib.lines.Line2D at 0x7f9b72b6fd90>,\n",
       " <matplotlib.lines.Line2D at 0x7f9b72b7a7d0>,\n",
       " <matplotlib.lines.Line2D at 0x7f9b72b7a910>,\n",
       " <matplotlib.lines.Line2D at 0x7f9b72b7aa50>,\n",
       " <matplotlib.lines.Line2D at 0x7f9b72b7ab90>,\n",
       " <matplotlib.lines.Line2D at 0x7f9b72b7acd0>,\n",
       " <matplotlib.lines.Line2D at 0x7f9b72b7ae10>,\n",
       " <matplotlib.lines.Line2D at 0x7f9b72b7a690>,\n",
       " <matplotlib.lines.Line2D at 0x7f9b72b840d0>,\n",
       " <matplotlib.lines.Line2D at 0x7f9b72b84210>,\n",
       " <matplotlib.lines.Line2D at 0x7f9b72b84350>,\n",
       " <matplotlib.lines.Line2D at 0x7f9b72b84490>,\n",
       " <matplotlib.lines.Line2D at 0x7f9b72b845d0>,\n",
       " <matplotlib.lines.Line2D at 0x7f9b72b84710>,\n",
       " <matplotlib.lines.Line2D at 0x7f9b72b7af50>,\n",
       " <matplotlib.lines.Line2D at 0x7f9b72b84990>,\n",
       " <matplotlib.lines.Line2D at 0x7f9b72b84ad0>,\n",
       " <matplotlib.lines.Line2D at 0x7f9b72b84c10>,\n",
       " <matplotlib.lines.Line2D at 0x7f9b72b84d50>,\n",
       " <matplotlib.lines.Line2D at 0x7f9b72b84e90>,\n",
       " <matplotlib.lines.Line2D at 0x7f9b72b84fd0>,\n",
       " <matplotlib.lines.Line2D at 0x7f9b72b84850>,\n",
       " <matplotlib.lines.Line2D at 0x7f9b72b0e290>,\n",
       " <matplotlib.lines.Line2D at 0x7f9b72b0e3d0>,\n",
       " <matplotlib.lines.Line2D at 0x7f9b72b0e510>,\n",
       " <matplotlib.lines.Line2D at 0x7f9b72b0e650>,\n",
       " <matplotlib.lines.Line2D at 0x7f9b72b0e790>,\n",
       " <matplotlib.lines.Line2D at 0x7f9b72b0e8d0>,\n",
       " <matplotlib.lines.Line2D at 0x7f9b72b0e150>,\n",
       " <matplotlib.lines.Line2D at 0x7f9b72b0eb50>,\n",
       " <matplotlib.lines.Line2D at 0x7f9b72b0ec90>,\n",
       " <matplotlib.lines.Line2D at 0x7f9b72b0edd0>,\n",
       " <matplotlib.lines.Line2D at 0x7f9b72b0ef10>,\n",
       " <matplotlib.lines.Line2D at 0x7f9b72b17090>,\n",
       " <matplotlib.lines.Line2D at 0x7f9b72b171d0>,\n",
       " <matplotlib.lines.Line2D at 0x7f9b72b0ea10>,\n",
       " <matplotlib.lines.Line2D at 0x7f9b72b17450>,\n",
       " <matplotlib.lines.Line2D at 0x7f9b72b17590>,\n",
       " <matplotlib.lines.Line2D at 0x7f9b72b176d0>,\n",
       " <matplotlib.lines.Line2D at 0x7f9b72b17810>,\n",
       " <matplotlib.lines.Line2D at 0x7f9b72b17950>,\n",
       " <matplotlib.lines.Line2D at 0x7f9b72b17a90>,\n",
       " <matplotlib.lines.Line2D at 0x7f9b72b17310>]"
      ]
     },
     "execution_count": 32,
     "metadata": {},
     "output_type": "execute_result"
    },
    {
     "data": {
      "image/png": "[encoded data removed]",
      "text/plain": [
       "<matplotlib.figure.Figure at 0x7f9b6bb37090>"
      ]
     },
     "metadata": {},
     "output_type": "display_data"
    }
   ],
   "source": [
    "plt.plot(aFPow.T)"
   ]
  },
  {
   "cell_type": "code",
   "execution_count": null,
   "metadata": {
    "collapsed": true
   },
   "outputs": [],
   "source": []
  }
 ],
 "metadata": {
  "kernelspec": {
   "display_name": "Python 2",
   "language": "python",
   "name": "python2"
  },
  "language_info": {
   "codemirror_mode": {
    "name": "ipython",
    "version": 2
   },
   "file_extension": ".py",
   "mimetype": "text/x-python",
   "name": "python",
   "nbconvert_exporter": "python",
   "pygments_lexer": "ipython2",
   "version": "2.7.12"
  }
 },
 "nbformat": 4,
 "nbformat_minor": 0
}
