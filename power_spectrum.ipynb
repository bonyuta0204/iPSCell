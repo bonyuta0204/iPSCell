{
 "cells": [
  {
   "cell_type": "code",
   "execution_count": 82,
   "metadata": {
    "collapsed": false
   },
   "outputs": [],
   "source": [
    "import pandas as pd\n",
    "import numpy as np\n",
    "import matplotlib.pyplot as plt\n",
    "%matplotlib inline\n",
    "ventricle = pd.read_csv(\"Ventricle_processed.csv\", index_col=0)\n",
    "article = pd.read_csv(\"Atrial_processed.csv\", index_col=0)\n",
    "\n"
   ]
  },
  {
   "cell_type": "markdown",
   "metadata": {},
   "source": [
    "## use cv index function"
   ]
  },
  {
   "cell_type": "code",
   "execution_count": 84,
   "metadata": {
    "collapsed": false
   },
   "outputs": [],
   "source": [
    "# get relevant data\n",
    "ventricle_data = ventricle.iloc[:,2:]\n",
    "article_data = article.iloc[:,2:]"
   ]
  },
  {
   "cell_type": "code",
   "execution_count": 65,
   "metadata": {
    "collapsed": false
   },
   "outputs": [],
   "source": [
    "# convert it to numpy array (number of cells * 4500)\n",
    "vnp = ventricle_data.values\n",
    "anp = article_data.values"
   ]
  },
  {
   "cell_type": "code",
   "execution_count": 86,
   "metadata": {
    "collapsed": false
   },
   "outputs": [],
   "source": [
    "# conduct fourier transform to both data\n",
    "vfft = np.fft.fft(vnp, axis=1)\n",
    "vpwr = np.abs(vfft) ** 2\n",
    "\n",
    "afft = np.fft.fft(anp, axis=1)\n",
    "apwr = np.abs(afft) ** 2\n",
    "# get first half of spectrum\n",
    "vpwr = vpwr[:, :int(vpwr.shape[1] / 2)]\n",
    "apwr = apwr[:, :int(apwr.shape[1] / 2)]"
   ]
  },
  {
   "cell_type": "code",
   "execution_count": 91,
   "metadata": {
    "collapsed": false
   },
   "outputs": [
    {
     "data": {
      "image/png": "[encoded data removed]",
      "text/plain": [
       "<matplotlib.figure.Figure at 0x7fb685c878d0>"
      ]
     },
     "metadata": {},
     "output_type": "display_data"
    },
    {
     "data": {
      "text/plain": [
       "[<matplotlib.lines.Line2D at 0x7fb6869b8c10>]"
      ]
     },
     "execution_count": 91,
     "metadata": {},
     "output_type": "execute_result"
    },
    {
     "data": {
      "image/png": "[encoded data removed]",
      "text/plain": [
       "<matplotlib.figure.Figure at 0x7fb68476f2d0>"
      ]
     },
     "metadata": {},
     "output_type": "display_data"
    }
   ],
   "source": [
    "# plot some figures\n",
    "plt.figure(figsize=(8,6))\n",
    "for i in range(vpwr.shape[0]):\n",
    "    plt.plot(vpwr[i][2:])\n",
    "for i in range(apwr.shape[0]):\n",
    "    plt.plot(apwr[i][2:])\n",
    "plt.show()\n",
    "plt.plot(vpwr[99])"
   ]
  },
  {
   "cell_type": "code",
   "execution_count": 94,
   "metadata": {
    "collapsed": false
   },
   "outputs": [],
   "source": [
    "np.save(\"ventricle_spectrum.npy\", vpwr)\n",
    "np.save(\"article_spectrum.npy\", apwr)"
   ]
  },
  {
   "cell_type": "code",
   "execution_count": null,
   "metadata": {
    "collapsed": true
   },
   "outputs": [],
   "source": []
  }
 ],
 "metadata": {
  "kernelspec": {
   "display_name": "Python 2",
   "language": "python",
   "name": "python2"
  },
  "language_info": {
   "codemirror_mode": {
    "name": "ipython",
    "version": 2
   },
   "file_extension": ".py",
   "mimetype": "text/x-python",
   "name": "python",
   "nbconvert_exporter": "python",
   "pygments_lexer": "ipython2",
   "version": "2.7.12"
  }
 },
 "nbformat": 4,
 "nbformat_minor": 0
}
