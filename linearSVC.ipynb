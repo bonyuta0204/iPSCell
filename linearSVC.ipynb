{
 "cells": [
  {
   "cell_type": "code",
   "execution_count": 1,
   "metadata": {
    "collapsed": false
   },
   "outputs": [],
   "source": [
    "import sys\n",
    "import random\n",
    "import numpy as np \n",
    "import pandas as pd\n",
    "import matplotlib.pyplot as plt\n",
    "%matplotlib inline\n",
    "sys.path.append(\"/home/share/libraries/bdpy\")\n",
    "import bdpy\n",
    "from bdpy.preproc import select_top\n",
    "from bdpy.ml import add_bias, make_cvindex\n",
    "from bdpy.stats import corrcoef\n",
    "from sklearn.preprocessing import StandardScaler\n",
    "from sklearn.cross_validation import train_test_split\n",
    "from sklearn.svm import LinearSVC"
   ]
  },
  {
   "cell_type": "code",
   "execution_count": 15,
   "metadata": {
    "collapsed": true
   },
   "outputs": [],
   "source": [
    "v_spec = np.load(\"ventricle_spectrum.npy\")\n",
    "a_spec = np.load(\"article_spectrum.npy\")\n",
    "# list for sampling features\n",
    "NUM_FEATURES = [i for i in range(1, 100)] + [i * 50 for i in range(2, 45)]"
   ]
  },
  {
   "cell_type": "code",
   "execution_count": 36,
   "metadata": {
    "collapsed": false
   },
   "outputs": [],
   "source": [
    "# ventricle: 0, article: 1\n",
    "# choose 71 samples from vertricle and make test data and label data\n",
    "def make_dataset(v_spec, a_spec, shuffle=False):\n",
    "    \"\"\"\n",
    "    choose 71 samples from vertricle and make test data and label data\n",
    "    \"\"\"\n",
    "    N = a_spec.shape[0]\n",
    "    choice = np.random.choice(v_spec.shape[0], N)\n",
    "    v_spec_random = v_spec[choice]\n",
    "    data = np.vstack((v_spec_random, a_spec))\n",
    "    # create dataset and labels(v: 0, a:1)\n",
    "    label = label = np.array([0] * N + [1] * N)\n",
    "    # shuffle data and label if shuffle == True\n",
    "    if shuffle:\n",
    "        random_index = [i for i in range(data.shape[0])]\n",
    "        random.shuffle(random_index)\n",
    "        data = data[random_index]\n",
    "        label = label[random_index]\n",
    "    return data, label"
   ]
  },
  {
   "cell_type": "code",
   "execution_count": 17,
   "metadata": {
    "collapsed": false
   },
   "outputs": [],
   "source": [
    "def cross_validation(data, label, n=10):\n",
    "    \"\"\"\n",
    "    return list of train_data, test_data, train_label, test_label\n",
    "    \n",
    "    return\n",
    "        list: list of shape(n, 4)\n",
    "    \"\"\"\n",
    "    index = np.arange(data.shape[0])\n",
    "    index = index % n\n",
    "    cvindex = make_cvindex(index)\n",
    "    cvindex = np.array(cvindex)\n",
    "    cross_valid = []\n",
    "    for i in range(cvindex.shape[2]):\n",
    "        train_data = data[cvindex[0][:, i] == True]\n",
    "        test_data = data[cvindex[1][:, i] == True]\n",
    "        train_label = label[cvindex[0][:, i] == True]\n",
    "        test_label = label[cvindex[1][:, i] == True]\n",
    "        cross_valid.append((train_data, test_data, train_label, test_label))\n",
    "    return cross_valid"
   ]
  },
  {
   "cell_type": "code",
   "execution_count": 18,
   "metadata": {
    "collapsed": true
   },
   "outputs": [],
   "source": [
    "# use linar SVM and calculate the score\n",
    "def classify(train_data, test_data, train_label, test_label, n_features):\n",
    "    # scale data\n",
    "    scaler = StandardScaler()\n",
    "    scaler.fit(train_data)\n",
    "    scaled_train_data = scaler.transform(train_data)\n",
    "    scaled_test_data = scaler.transform(test_data)\n",
    "    # train classifier\n",
    "    clf = LinearSVC()\n",
    "    # use n_features\n",
    "    clf.fit(scaled_train_data[:, : n_features], train_label)\n",
    "    # get score\n",
    "    score = clf.score(scaled_test_data[:, :n_features], test_label)\n",
    "    return score"
   ]
  },
  {
   "cell_type": "code",
   "execution_count": 9,
   "metadata": {
    "collapsed": false
   },
   "outputs": [
    {
     "name": "stdout",
     "output_type": "stream",
     "text": [
      "A\n",
      "iteration number0\n",
      "iteration number1\n",
      "iteration number2\n",
      "iteration number3\n",
      "iteration number4\n",
      "iteration number5\n",
      "iteration number6\n",
      "iteration number7\n",
      "iteration number8\n",
      "iteration number9\n"
     ]
    }
   ],
   "source": [
    "# put data to score_record and get sum \n",
    "score_record = np.zeros(len(NUM_FEATURES))\n",
    "trial = 0\n",
    "for i in range(10):\n",
    "    print(\"iteration number{0}\".format(i))\n",
    "    data, label = make_dataset(v_spec, a_spec)\n",
    "    cross_valid = cross_validation(data, label, n=10)\n",
    "    # for each train-test in cross validation\n",
    "    for  train_data, test_data, train_label, test_label in cross_valid:\n",
    "        trial += 1\n",
    "        for count, num_features in enumerate(NUM_FEATURES):\n",
    "        \n",
    "            score = classify(train_data, test_data, train_label, test_label, num_features)\n",
    "            score_record[count] += score\n"
   ]
  },
  {
   "cell_type": "code",
   "execution_count": 37,
   "metadata": {
    "collapsed": false
   },
   "outputs": [
    {
     "name": "stdout",
     "output_type": "stream",
     "text": [
      "A\n",
      "number of features:1\n",
      "number of features:2\n",
      "number of features:3\n",
      "number of features:4\n",
      "number of features:5\n",
      "number of features:6\n",
      "number of features:7\n",
      "number of features:8\n",
      "number of features:9\n",
      "number of features:10\n",
      "number of features:11\n",
      "number of features:12\n",
      "number of features:13\n",
      "number of features:14\n",
      "number of features:15\n",
      "number of features:16\n",
      "number of features:17\n",
      "number of features:18\n",
      "number of features:19\n",
      "number of features:20\n",
      "number of features:21\n",
      "number of features:22\n",
      "number of features:23\n",
      "number of features:24\n",
      "number of features:25\n",
      "number of features:26\n",
      "number of features:27\n",
      "number of features:28\n",
      "number of features:29\n",
      "number of features:30\n",
      "number of features:31\n",
      "number of features:32\n",
      "number of features:33\n",
      "number of features:34\n",
      "number of features:35\n",
      "number of features:36\n",
      "number of features:37\n",
      "number of features:38\n",
      "number of features:39\n",
      "number of features:40\n",
      "number of features:41\n",
      "number of features:42\n",
      "number of features:43\n",
      "number of features:44\n",
      "number of features:45\n",
      "number of features:46\n",
      "number of features:47\n",
      "number of features:48\n",
      "number of features:49\n",
      "number of features:50\n",
      "number of features:51\n",
      "number of features:52\n",
      "number of features:53\n",
      "number of features:54\n",
      "number of features:55\n",
      "number of features:56\n",
      "number of features:57\n",
      "number of features:58\n",
      "number of features:59\n",
      "number of features:60\n",
      "number of features:61\n",
      "number of features:62\n",
      "number of features:63\n",
      "number of features:64\n",
      "number of features:65\n",
      "number of features:66\n",
      "number of features:67\n",
      "number of features:68\n",
      "number of features:69\n",
      "number of features:70\n",
      "number of features:71\n",
      "number of features:72\n",
      "number of features:73\n",
      "number of features:74\n",
      "number of features:75\n",
      "number of features:76\n",
      "number of features:77\n",
      "number of features:78\n",
      "number of features:79\n",
      "number of features:80\n",
      "number of features:81\n",
      "number of features:82\n",
      "number of features:83\n",
      "number of features:84\n",
      "number of features:85\n",
      "number of features:86\n",
      "number of features:87\n",
      "number of features:88\n",
      "number of features:89\n",
      "number of features:90\n",
      "number of features:91\n",
      "number of features:92\n",
      "number of features:93\n",
      "number of features:94\n",
      "number of features:95\n",
      "number of features:96\n",
      "number of features:97\n",
      "number of features:98\n",
      "number of features:99\n",
      "number of features:100\n",
      "number of features:150\n",
      "number of features:200\n",
      "number of features:250\n",
      "number of features:300\n",
      "number of features:350\n",
      "number of features:400\n",
      "number of features:450\n",
      "number of features:500\n",
      "number of features:550\n",
      "number of features:600\n",
      "number of features:650\n",
      "number of features:700\n",
      "number of features:750\n",
      "number of features:800\n",
      "number of features:850\n",
      "number of features:900\n",
      "number of features:950\n",
      "number of features:1000\n",
      "number of features:1050\n",
      "number of features:1100\n",
      "number of features:1150\n",
      "number of features:1200\n",
      "number of features:1250\n",
      "number of features:1300\n",
      "number of features:1350\n",
      "number of features:1400\n",
      "number of features:1450\n",
      "number of features:1500\n",
      "number of features:1550\n",
      "number of features:1600\n",
      "number of features:1650\n",
      "number of features:1700\n",
      "number of features:1750\n",
      "number of features:1800\n",
      "number of features:1850\n",
      "number of features:1900\n",
      "number of features:1950\n",
      "number of features:2000\n",
      "number of features:2050\n",
      "number of features:2100\n",
      "number of features:2150\n",
      "number of features:2200\n"
     ]
    }
   ],
   "source": [
    "# put data to score_record and get sum \n",
    "print(\"A\")\n",
    "score_record = np.zeros(len(NUM_FEATURES))\n",
    "trial = 0\n",
    "for count, num_features in enumerate(NUM_FEATURES):\n",
    "    print(\"number of features:{0}\".format(num_features))\n",
    "    for i in range(10):\n",
    "        data, label = make_dataset(v_spec, a_spec)\n",
    "        cross_valid = cross_validation(data, label, n=10)\n",
    "\n",
    "        # for each train-test in cross validation\n",
    "        for  train_data, test_data, train_label, test_label in cross_valid:\n",
    "            trial += 1\n",
    "            score = classify(train_data, test_data, train_label, test_label, num_features)\n",
    "            score_record[count] += score\n"
   ]
  },
  {
   "cell_type": "code",
   "execution_count": 39,
   "metadata": {
    "collapsed": false
   },
   "outputs": [
    {
     "data": {
      "text/plain": [
       "[<matplotlib.lines.Line2D at 0x7fc262adb6d0>]"
      ]
     },
     "execution_count": 39,
     "metadata": {},
     "output_type": "execute_result"
    },
    {
     "data": {
      "image/png": "[encoded data removed]",
      "text/plain": [
       "<matplotlib.figure.Figure at 0x7fc26be34cd0>"
      ]
     },
     "metadata": {},
     "output_type": "display_data"
    }
   ],
   "source": [
    "plt.plot(NUM_FEATURES, score_record / trial * len(NUM_FEATURES))"
   ]
  },
  {
   "cell_type": "code",
   "execution_count": 12,
   "metadata": {
    "collapsed": false
   },
   "outputs": [
    {
     "data": {
      "image/png": "[encoded data removed]",
      "text/plain": [
       "<matplotlib.figure.Figure at 0x7f0a8f767a90>"
      ]
     },
     "metadata": {},
     "output_type": "display_data"
    }
   ],
   "source": [
    "plt.plot(NUM_FEATURES, score_record)\n",
    "plt.ylim(0.45, 0.75)\n",
    "plt.show()"
   ]
  },
  {
   "cell_type": "code",
   "execution_count": 9,
   "metadata": {
    "collapsed": true
   },
   "outputs": [],
   "source": [
    "score_record = score_record / 100 "
   ]
  },
  {
   "cell_type": "code",
   "execution_count": 13,
   "metadata": {
    "collapsed": false
   },
   "outputs": [
    {
     "data": {
      "text/plain": [
       "array([ 0.56433333,  0.56338095,  0.56061905,  0.545     ,  0.56252381,\n",
       "        0.56804762,  0.56185714,  0.56295238,  0.57280952,  0.56661905,\n",
       "        0.5607619 ,  0.56485714,  0.55871429,  0.57595238,  0.57085714,\n",
       "        0.57157143,  0.57852381,  0.60533333,  0.61114286,  0.60871429,\n",
       "        0.60028571,  0.59652381,  0.5972381 ,  0.61795238,  0.60580952,\n",
       "        0.61685714,  0.64338095,  0.64461905,  0.64280952,  0.64004762,\n",
       "        0.65680952,  0.65257143,  0.654     ,  0.66319048,  0.65961905,\n",
       "        0.6822381 ,  0.6807619 ,  0.68657143,  0.6837619 ,  0.67804762,\n",
       "        0.68171429,  0.68595238,  0.69838095,  0.69290476,  0.69219048,\n",
       "        0.69290476,  0.68795238,  0.69014286,  0.69742857,  0.69452381,\n",
       "        0.69738095,  0.69780952,  0.70261905,  0.70128571,  0.71161905,\n",
       "        0.70685714,  0.70552381,  0.70561905,  0.71133333,  0.70566667,\n",
       "        0.7042381 ,  0.70485714,  0.70138095,  0.70766667,  0.70404762,\n",
       "        0.70542857,  0.70961905,  0.71033333,  0.71104762,  0.7117619 ,\n",
       "        0.71671429,  0.71385714,  0.71247619,  0.70895238,  0.71390476,\n",
       "        0.70680952,  0.70680952,  0.71033333,  0.71033333,  0.7137619 ,\n",
       "        0.71385714,  0.70742857,  0.70880952,  0.70390476,  0.71442857,\n",
       "        0.7152381 ,  0.706     ,  0.70457143,  0.70814286,  0.70314286,\n",
       "        0.70038095,  0.70171429,  0.70304762,  0.69104762,  0.69457143,\n",
       "        0.69595238,  0.69666667,  0.69319048,  0.69461905,  0.69452381,\n",
       "        0.70614286,  0.67814286,  0.697     ,  0.69219048,  0.71042857,\n",
       "        0.70733333,  0.71509524,  0.70671429,  0.69609524,  0.68638095,\n",
       "        0.71609524,  0.7132381 ,  0.71095238,  0.70333333,  0.69328571,\n",
       "        0.70038095,  0.70561905,  0.70919048,  0.695     ,  0.69233333,\n",
       "        0.68809524,  0.69238095,  0.69038095,  0.69452381,  0.69728571,\n",
       "        0.69947619,  0.703     ,  0.69728571,  0.69580952,  0.69585714,\n",
       "        0.69947619,  0.698     ,  0.69728571,  0.70152381,  0.70138095,\n",
       "        0.70357143,  0.70785714])"
      ]
     },
     "execution_count": 13,
     "metadata": {},
     "output_type": "execute_result"
    }
   ],
   "source": [
    "score_record"
   ]
  },
  {
   "cell_type": "code",
   "execution_count": 35,
   "metadata": {
    "collapsed": false
   },
   "outputs": [
    {
     "name": "stdout",
     "output_type": "stream",
     "text": [
      "[84, 134, 46, 1, 132, 13, 67, 18, 80, 137, 2, 17, 4, 131, 118, 97, 74, 88, 127, 22, 113, 6, 20, 82, 138, 36, 72, 0, 54, 135, 56, 62, 121, 96, 139, 79, 28, 24, 29, 103, 111, 15, 129, 47, 66, 75, 33, 105, 95, 91, 133, 94, 122, 61, 14, 102, 8, 23, 37, 3, 40, 16, 116, 11, 99, 128, 73, 115, 21, 39, 104, 64, 112, 119, 101, 51, 48, 117, 65, 7, 71, 130, 27, 136, 77, 43, 87, 98, 30, 12, 35, 53, 42, 19, 38, 106, 89, 83, 49, 25, 31, 114, 59, 68, 26, 85, 10, 93, 69, 90, 52, 70, 45, 125, 34, 108, 5, 63, 41, 44, 92, 124, 50, 78, 126, 100, 81, 60, 107, 55, 141, 110, 76, 109, 140, 32, 120, 9, 58, 123, 86, 57]\n"
     ]
    }
   ],
   "source": [
    "data, label = make_dataset(v_spec, a_spec, shuffle=True)\n",
    "cross_valid = cross_validation(data, label, n=10)"
   ]
  },
  {
   "cell_type": "code",
   "execution_count": 34,
   "metadata": {
    "collapsed": false
   },
   "outputs": [
    {
     "data": {
      "text/plain": [
       "(15,)"
      ]
     },
     "execution_count": 34,
     "metadata": {},
     "output_type": "execute_result"
    }
   ],
   "source": [
    "cross_valid[0][3].shape"
   ]
  },
  {
   "cell_type": "code",
   "execution_count": null,
   "metadata": {
    "collapsed": true
   },
   "outputs": [],
   "source": []
  }
 ],
 "metadata": {
  "kernelspec": {
   "display_name": "Python 2",
   "language": "python",
   "name": "python2"
  },
  "language_info": {
   "codemirror_mode": {
    "name": "ipython",
    "version": 2
   },
   "file_extension": ".py",
   "mimetype": "text/x-python",
   "name": "python",
   "nbconvert_exporter": "python",
   "pygments_lexer": "ipython2",
   "version": "2.7.12"
  }
 },
 "nbformat": 4,
 "nbformat_minor": 1
}
