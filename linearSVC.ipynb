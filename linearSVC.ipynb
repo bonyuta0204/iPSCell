{
 "cells": [
  {
   "cell_type": "code",
   "execution_count": 5,
   "metadata": {
    "collapsed": false
   },
   "outputs": [],
   "source": [
    "import sys\n",
    "import random\n",
    "import numpy as np \n",
    "import pandas as pd\n",
    "import matplotlib.pyplot as plt\n",
    "%matplotlib inline\n",
    "\n",
    "sys.path.append(\"/home/share/libraries/bdpy\")\n",
    "import bdpy\n",
    "from bdpy.preproc import select_top\n",
    "from bdpy.ml import add_bias, make_cvindex\n",
    "from bdpy.stats import corrcoef\n",
    "\n",
    "from sklearn.preprocessing import StandardScaler\n",
    "from sklearn.cross_validation import train_test_split\n",
    "from sklearn.svm import LinearSVC\n",
    "\n",
    "from util import make_dataset\n",
    "from util import cross_validation"
   ]
  },
  {
   "cell_type": "code",
   "execution_count": 2,
   "metadata": {
    "collapsed": true
   },
   "outputs": [],
   "source": [
    "v_spec = np.load(\"record/ventricle_spectrum.npy\")\n",
    "a_spec = np.load(\"record/article_spectrum.npy\")\n",
    "# list for sampling features\n",
    "NUM_FEATURES = [i for i in range(1, 100)] + [i * 50 for i in range(2, 45)]"
   ]
  },
  {
   "cell_type": "code",
   "execution_count": 50,
   "metadata": {
    "collapsed": false
   },
   "outputs": [],
   "source": [
    "# ventricle: 0, article: 1\n",
    "# choose 71 samples from vertricle and make test data and label data\n",
    "def make_dataset(v_spec, a_spec, shuffle=False):\n",
    "    \"\"\"\n",
    "    choose 71 samples from vertricle and make data and label data\n",
    "    \"\"\"\n",
    "    N = a_spec.shape[0]\n",
    "    choice = np.random.choice(v_spec.shape[0], size=N)\n",
    "    v_spec_random = v_spec[choice]\n",
    "    choice = np.random.choice(N, size=N)\n",
    "    a_spec_random = a_spec[choice]\n",
    "    data = np.vstack((v_spec_random, a_spec_random))\n",
    "    # create dataset and labels(v: 0, a:1)\n",
    "    label = np.array([0] * N + [1] * N)\n",
    "    # shuffle data and label if shuffle == True\n",
    "    if shuffle:\n",
    "        random_index = [i for i in range(data.shape[0])]\n",
    "        random.shuffle(random_index)\n",
    "        data = data[random_index]\n",
    "        label = label[random_index]\n",
    "    return data, label"
   ]
  },
  {
   "cell_type": "code",
   "execution_count": 51,
   "metadata": {
    "collapsed": false
   },
   "outputs": [],
   "source": [
    "def cross_validation(data, label, n=10):\n",
    "    \"\"\"\n",
    "    return list of train_data, test_data, train_label, test_label\n",
    "    \n",
    "    return\n",
    "        list: list of shape(n, 4)\n",
    "    \"\"\"\n",
    "    index = np.arange(data.shape[0])\n",
    "    index = index % n\n",
    "    cvindex = make_cvindex(index)\n",
    "    cvindex = np.array(cvindex)\n",
    "    cross_valid = []\n",
    "    for i in range(cvindex.shape[2]):\n",
    "        train_data = data[cvindex[0][:, i] == True]\n",
    "        test_data = data[cvindex[1][:, i] == True]\n",
    "        train_label = label[cvindex[0][:, i] == True]\n",
    "        test_label = label[cvindex[1][:, i] == True]\n",
    "        cross_valid.append((train_data, test_data, train_label, test_label))\n",
    "    return cross_valid"
   ]
  },
  {
   "cell_type": "code",
   "execution_count": 3,
   "metadata": {
    "collapsed": true
   },
   "outputs": [],
   "source": [
    "# use linar SVM and calculate the score\n",
    "def classify(train_data, test_data, train_label, test_label, n_features):\n",
    "    # scale data\n",
    "    scaler = StandardScaler()\n",
    "    scaler.fit(train_data)\n",
    "    scaled_train_data = scaler.transform(train_data)\n",
    "    scaled_test_data = scaler.transform(test_data)\n",
    "    # train classifier\n",
    "    clf = LinearSVC()\n",
    "    # use n_features\n",
    "    clf.fit(scaled_train_data[:, : n_features], train_label)\n",
    "    # get score\n",
    "    score = clf.score(scaled_test_data[:, :n_features], test_label)\n",
    "\n",
    "    return score"
   ]
  },
  {
   "cell_type": "code",
   "execution_count": 6,
   "metadata": {
    "collapsed": false,
    "scrolled": true
   },
   "outputs": [
    {
     "name": "stdout",
     "output_type": "stream",
     "text": [
      "Using matplotlib backend: Qt4Agg\n",
      "number of features:100\n",
      "number of features:200\n",
      "number of features:300\n",
      "number of features:400\n",
      "number of features:500\n",
      "number of features:600\n",
      "number of features:700\n",
      "number of features:800\n",
      "number of features:900\n",
      "number of features:1000\n",
      "number of features:1100\n",
      "number of features:1200\n",
      "number of features:1300\n",
      "number of features:1400\n",
      "number of features:1500\n",
      "number of features:1600\n",
      "number of features:1700\n",
      "number of features:1800\n",
      "number of features:1900\n",
      "number of features:2000\n",
      "number of features:2100\n",
      "number of features:2200\n"
     ]
    },
    {
     "name": "stderr",
     "output_type": "stream",
     "text": [
      "/home/python/2.7/lib/python2.7/site-packages/matplotlib/backend_bases.py:2435: MatplotlibDeprecationWarning: Using default event loop until function specific to this GUI is implemented\n",
      "  warnings.warn(str, mplDeprecation)\n"
     ]
    }
   ],
   "source": [
    "%matplotlib\n",
    "#put data to score_record and get sum \n",
    "score_record = []\n",
    "line, = plt.plot(0,0)\n",
    "plt.xlim(0,2250)\n",
    "plt.ylim(0.45, 0.90)\n",
    "trial = 0\n",
    "for count, num_features in enumerate(NUM_FEATURES):\n",
    "    if num_features % 100 == 0:\n",
    "        print(\"number of features:{0}\".format(num_features))\n",
    "    accuracy = []\n",
    "    for i in range(10):\n",
    "        data, label = make_dataset(v_spec, a_spec)\n",
    "        cross_valid = cross_validation(data, label, n=10)\n",
    "\n",
    "        # for each train-test in cross validation\n",
    "        for  train_data, test_data, train_label, test_label in cross_valid:\n",
    "            score = classify(train_data, test_data, train_label, test_label, num_features)\n",
    "            accuracy.append(score)\n",
    "    score_record.append(accuracy)\n",
    "    mean = np.array(score_record)[:count].mean(axis=1)\n",
    "    line.set_data(NUM_FEATURES[:count], mean)\n",
    "    plt.pause(0.001)\n",
    "    "
   ]
  },
  {
   "cell_type": "code",
   "execution_count": 7,
   "metadata": {
    "collapsed": false
   },
   "outputs": [],
   "source": [
    "score_record = np.array(score_record)\n",
    "mean = score_record.mean(axis=1)\n",
    "std = score_record.std(axis=1)"
   ]
  },
  {
   "cell_type": "code",
   "execution_count": 8,
   "metadata": {
    "collapsed": false
   },
   "outputs": [
    {
     "data": {
      "text/plain": [
       "<matplotlib.lines.Line2D at 0x7f94e562ced0>"
      ]
     },
     "execution_count": 8,
     "metadata": {},
     "output_type": "execute_result"
    },
    {
     "data": {
      "image/png": "[encoded data removed]",
      "text/plain": [
       "<matplotlib.figure.Figure at 0x7f94e569e4d0>"
      ]
     },
     "metadata": {},
     "output_type": "display_data"
    }
   ],
   "source": [
    "%matplotlib inline\n",
    "# plot figure\n",
    "plt.plot(NUM_FEATURES, mean)\n",
    "plt.fill_between(NUM_FEATURES, mean - std, mean + std, alpha = 0.2, color = \"green\")\n",
    "plt.xlim(0, 2250)\n",
    "plt.ylim((0.4, 0.75))\n",
    "plt.axhline(0.5, linestyle=\"--\", color=\"black\")"
   ]
  },
  {
   "cell_type": "code",
   "execution_count": null,
   "metadata": {
    "collapsed": true
   },
   "outputs": [],
   "source": []
  }
 ],
 "metadata": {
  "kernelspec": {
   "display_name": "Python 2",
   "language": "python",
   "name": "python2"
  },
  "language_info": {
   "codemirror_mode": {
    "name": "ipython",
    "version": 2
   },
   "file_extension": ".py",
   "mimetype": "text/x-python",
   "name": "python",
   "nbconvert_exporter": "python",
   "pygments_lexer": "ipython2",
   "version": "2.7.12"
  }
 },
 "nbformat": 4,
 "nbformat_minor": 1
}
