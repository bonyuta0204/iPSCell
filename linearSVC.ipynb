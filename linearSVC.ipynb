{
 "cells": [
  {
   "cell_type": "code",
   "execution_count": 1,
   "metadata": {
    "collapsed": false
   },
   "outputs": [],
   "source": [
    "import sys\n",
    "import random\n",
    "import numpy as np \n",
    "import pandas as pd\n",
    "import matplotlib.pyplot as plt\n",
    "%matplotlib inline\n",
    "\n",
    "sys.path.append(\"/home/share/libraries/bdpy\")\n",
    "import bdpy\n",
    "from bdpy.preproc import select_top\n",
    "from bdpy.ml import add_bias, make_cvindex\n",
    "from bdpy.stats import corrcoef\n",
    "\n",
    "from sklearn.preprocessing import StandardScaler\n",
    "from sklearn.svm import LinearSVC\n",
    "\n",
    "from util import make_dataset\n",
    "from util import cross_validation"
   ]
  },
  {
   "cell_type": "code",
   "execution_count": 2,
   "metadata": {
    "collapsed": true
   },
   "outputs": [],
   "source": [
    "v_spec = np.load(\"record/ventricle_spectrum.npy\")\n",
    "a_spec = np.load(\"record/article_spectrum.npy\")\n",
    "# list for sampling features\n",
    "NUM_FEATURES = [i for i in range(1, 100)] + [i * 50 for i in range(2, 45)]"
   ]
  },
  {
   "cell_type": "code",
   "execution_count": null,
   "metadata": {
    "collapsed": true
   },
   "outputs": [],
   "source": [
    "# use linar SVM and calculate the score\n",
    "def classify(train_data, test_data, train_label, test_label, n_features):\n",
    "    # scale data\n",
    "    scaler = StandardScaler()\n",
    "    scaler.fit(train_data)\n",
    "    scaled_train_data = scaler.transform(train_data)\n",
    "    scaled_test_data = scaler.transform(test_data)\n",
    "    # train classifier\n",
    "    clf = LinearSVC()\n",
    "    # use n_features\n",
    "    clf.fit(scaled_train_data[:, : n_features], train_label)\n",
    "    # get score\n",
    "    score = clf.score(scaled_test_data[:, :n_features], test_label)\n",
    "\n",
    "    return score"
   ]
  },
  {
   "cell_type": "code",
   "execution_count": null,
   "metadata": {
    "collapsed": false,
    "scrolled": true
   },
   "outputs": [],
   "source": [
    "%matplotlib\n",
    "#put data to score_record and get sum \n",
    "score_record = []\n",
    "line, = plt.plot(0,0)\n",
    "plt.xlim(0,2250)\n",
    "plt.ylim(0.45, 0.75)\n",
    "plt.axhline(0.5, linestyle=\"--\", color=\"black\")\n",
    "trial = 0\n",
    "for count, num_features in enumerate(NUM_FEATURES):\n",
    "    if num_features % 100 == 0:\n",
    "        print(\"number of features:{0}\".format(num_features))\n",
    "    accuracy = []\n",
    "    for i in range(10):\n",
    "        data, label = make_dataset(v_spec, a_spec)\n",
    "        cross_valid = cross_validation(data, label, n=10)\n",
    "\n",
    "        # for each train-test in cross validation\n",
    "        for  train_data, test_data, train_label, test_label in cross_valid:\n",
    "            score = classify(train_data, test_data, train_label, test_label, num_features)\n",
    "            accuracy.append(score)\n",
    "    score_record.append(accuracy)\n",
    "    mean = np.array(score_record)[:count].mean(axis=1)\n",
    "    line.set_data(NUM_FEATURES[:count], mean)\n",
    "    plt.pause(0.001)\n",
    "    "
   ]
  },
  {
   "cell_type": "code",
   "execution_count": null,
   "metadata": {
    "collapsed": false
   },
   "outputs": [],
   "source": [
    "score_record = np.array(score_record)\n",
    "mean = score_record.mean(axis=1)\n",
    "std = score_record.std(axis=1)"
   ]
  },
  {
   "cell_type": "code",
   "execution_count": null,
   "metadata": {
    "collapsed": false
   },
   "outputs": [],
   "source": [
    "%matplotlib inline\n",
    "# plot figure\n",
    "plt.plot(NUM_FEATURES, mean)\n",
    "plt.fill_between(NUM_FEATURES, mean - std, mean + std, alpha = 0.2, color = \"green\")\n",
    "plt.xlim(0, 2250)\n",
    "plt.ylim((0.4, 0.75))\n",
    "plt.axhline(0.5, linestyle=\"--\", color=\"black\")"
   ]
  }
 ],
 "metadata": {
  "kernelspec": {
   "display_name": "Python 2",
   "language": "python",
   "name": "python2"
  },
  "language_info": {
   "codemirror_mode": {
    "name": "ipython",
    "version": 2
   },
   "file_extension": ".py",
   "mimetype": "text/x-python",
   "name": "python",
   "nbconvert_exporter": "python",
   "pygments_lexer": "ipython2",
   "version": "2.7.12"
  }
 },
 "nbformat": 4,
 "nbformat_minor": 1
}
