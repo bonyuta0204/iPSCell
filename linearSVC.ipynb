{
 "cells": [
  {
   "cell_type": "code",
   "execution_count": 1,
   "metadata": {
    "collapsed": false
   },
   "outputs": [],
   "source": [
    "import sys\n",
    "import numpy as np \n",
    "import pandas as pd\n",
    "import matplotlib.pyplot as plt\n",
    "%matplotlib inline\n",
    "sys.path.append(\"/home/share/libraries/bdpy\")\n",
    "import bdpy\n",
    "from bdpy.preproc import select_top\n",
    "from bdpy.ml import add_bias, make_cvindex\n",
    "from bdpy.stats import corrcoef\n",
    "from sklearn.preprocessing import StandardScaler\n",
    "from sklearn.cross_validation import train_test_split\n",
    "from sklearn.linear_model import LinearRegression\n",
    "from sklearn.linear_model import LogisticRegression\n",
    "from sklearn.svm import LinearSVC"
   ]
  },
  {
   "cell_type": "code",
   "execution_count": 2,
   "metadata": {
    "collapsed": true
   },
   "outputs": [],
   "source": [
    "v_spec = np.load(\"ventricle_spectrum.npy\")\n",
    "a_spec = np.load(\"article_spectrum.npy\")"
   ]
  },
  {
   "cell_type": "code",
   "execution_count": 3,
   "metadata": {
    "collapsed": false
   },
   "outputs": [],
   "source": [
    "# list for sampling features\n",
    "NUM_FEATURES = [i for i in range(1, 100)] + [i * 50 for i in range(2, 45)]"
   ]
  },
  {
   "cell_type": "code",
   "execution_count": 4,
   "metadata": {
    "collapsed": false
   },
   "outputs": [],
   "source": [
    "# ventricle: 0, article: 1\n",
    "# choose 71 samples from vertricle and make test data and label data\n",
    "def make_dataset(v_spec, a_spec):\n",
    "    \"\"\"\n",
    "    choose 71 samples from vertricle and make test data and label data\n",
    "    \"\"\"\n",
    "    N = a_spec.shape[0]\n",
    "    choice = np.random.choice(v_spec.shape[0], N)\n",
    "    v_spec_random = v_spec[choice]\n",
    "    data = np.vstack((v_spec_random, a_spec))\n",
    "    # create dataset and labels(v: 0, a:1)\n",
    "    label = label = np.array([0] * N + [1] * N)\n",
    "    return data, label"
   ]
  },
  {
   "cell_type": "code",
   "execution_count": 5,
   "metadata": {
    "collapsed": false
   },
   "outputs": [],
   "source": [
    "def cross_validation(data, label, n=10):\n",
    "    \"\"\"\n",
    "    return list of train_data, test_data, train_label, test_label\n",
    "    return\n",
    "        list: list of shape(n, 4)\n",
    "    \"\"\"\n",
    "    index = np.arange(data.shape[0])\n",
    "    index = index % n\n",
    "    cvindex = make_cvindex(index)\n",
    "    cvindex = np.array(cvindex)\n",
    "    cross_valid = []\n",
    "    for i in range(cvindex.shape[2]):\n",
    "        train_data = data[cvindex[0][:, i] == True]\n",
    "        test_data = data[cvindex[1][:, i] == True]\n",
    "        train_label = label[cvindex[0][:, i] == True]\n",
    "        test_label = label[cvindex[1][:, i] == True]\n",
    "        cross_valid.append((train_data, test_data, train_label, test_label))\n",
    "    return cross_valid"
   ]
  },
  {
   "cell_type": "code",
   "execution_count": 6,
   "metadata": {
    "collapsed": true
   },
   "outputs": [],
   "source": [
    "# use linar SVM and calculate the score\n",
    "def classify(train_data, test_data, train_label, test_label, n_features):\n",
    "    # scale data\n",
    "    scaler = StandardScaler()\n",
    "    scaler.fit(train_data)\n",
    "    scaled_train_data = scaler.transform(train_data)\n",
    "    scaled_test_data = scaler.transform(test_data)\n",
    "    # train classifier\n",
    "    clf = LinearSVC()\n",
    "    # use n_features\n",
    "    clf.fit(scaled_train_data[:, : n_features], train_label)\n",
    "    # get score\n",
    "    score = clf.score(scaled_test_data[:, :n_features], test_label)\n",
    "    return score"
   ]
  },
  {
   "cell_type": "code",
   "execution_count": null,
   "metadata": {
    "collapsed": false
   },
   "outputs": [],
   "source": [
    "# put data to score_record and get sum \n",
    "print(\"A\")\n",
    "score_record = np.zeros(len(NUM_FEATURES))\n",
    "trial = 0\n",
    "for i in range(10):\n",
    "    print(\"iteration number{0}\".format(i))\n",
    "    data, label = make_dataset(v_spec, a_spec)\n",
    "    cross_valid = cross_validation(data, label, n=10)\n",
    "    # for each train-test in cross validation\n",
    "    for  train_data, test_data, train_label, test_label in cross_valid:\n",
    "        trial += 1\n",
    "        for count, num_features in enumerate(NUM_FEATURES):\n",
    "        \n",
    "            score = classify(train_data, test_data, train_label, test_label, num_features)\n",
    "            score_record[count] += score\n"
   ]
  },
  {
   "cell_type": "code",
   "execution_count": 11,
   "metadata": {
    "collapsed": false
   },
   "outputs": [
    {
     "data": {
      "text/plain": [
       "[<matplotlib.lines.Line2D at 0x7f860007d550>]"
      ]
     },
     "execution_count": 11,
     "metadata": {},
     "output_type": "execute_result"
    },
    {
     "data": {
      "image/png": "[encoded data removed]",
      "text/plain": [
       "<matplotlib.figure.Figure at 0x7f8600550e10>"
      ]
     },
     "metadata": {},
     "output_type": "display_data"
    }
   ],
   "source": [
    "plt.plot(NUM_FEATURES, score_record / 20)"
   ]
  },
  {
   "cell_type": "code",
   "execution_count": null,
   "metadata": {
    "collapsed": true
   },
   "outputs": [],
   "source": []
  },
  {
   "cell_type": "code",
   "execution_count": 12,
   "metadata": {
    "collapsed": false
   },
   "outputs": [
    {
     "data": {
      "image/png": "[encoded data removed]",
      "text/plain": [
       "<matplotlib.figure.Figure at 0x7f0a8f767a90>"
      ]
     },
     "metadata": {},
     "output_type": "display_data"
    }
   ],
   "source": [
    "plt.plot(NUM_FEATURES, score_record)\n",
    "plt.ylim(0.45, 0.75)\n",
    "plt.show()"
   ]
  },
  {
   "cell_type": "code",
   "execution_count": 9,
   "metadata": {
    "collapsed": true
   },
   "outputs": [],
   "source": [
    "score_record = score_record / 100 "
   ]
  },
  {
   "cell_type": "code",
   "execution_count": 13,
   "metadata": {
    "collapsed": false
   },
   "outputs": [
    {
     "data": {
      "text/plain": [
       "array([ 0.56433333,  0.56338095,  0.56061905,  0.545     ,  0.56252381,\n",
       "        0.56804762,  0.56185714,  0.56295238,  0.57280952,  0.56661905,\n",
       "        0.5607619 ,  0.56485714,  0.55871429,  0.57595238,  0.57085714,\n",
       "        0.57157143,  0.57852381,  0.60533333,  0.61114286,  0.60871429,\n",
       "        0.60028571,  0.59652381,  0.5972381 ,  0.61795238,  0.60580952,\n",
       "        0.61685714,  0.64338095,  0.64461905,  0.64280952,  0.64004762,\n",
       "        0.65680952,  0.65257143,  0.654     ,  0.66319048,  0.65961905,\n",
       "        0.6822381 ,  0.6807619 ,  0.68657143,  0.6837619 ,  0.67804762,\n",
       "        0.68171429,  0.68595238,  0.69838095,  0.69290476,  0.69219048,\n",
       "        0.69290476,  0.68795238,  0.69014286,  0.69742857,  0.69452381,\n",
       "        0.69738095,  0.69780952,  0.70261905,  0.70128571,  0.71161905,\n",
       "        0.70685714,  0.70552381,  0.70561905,  0.71133333,  0.70566667,\n",
       "        0.7042381 ,  0.70485714,  0.70138095,  0.70766667,  0.70404762,\n",
       "        0.70542857,  0.70961905,  0.71033333,  0.71104762,  0.7117619 ,\n",
       "        0.71671429,  0.71385714,  0.71247619,  0.70895238,  0.71390476,\n",
       "        0.70680952,  0.70680952,  0.71033333,  0.71033333,  0.7137619 ,\n",
       "        0.71385714,  0.70742857,  0.70880952,  0.70390476,  0.71442857,\n",
       "        0.7152381 ,  0.706     ,  0.70457143,  0.70814286,  0.70314286,\n",
       "        0.70038095,  0.70171429,  0.70304762,  0.69104762,  0.69457143,\n",
       "        0.69595238,  0.69666667,  0.69319048,  0.69461905,  0.69452381,\n",
       "        0.70614286,  0.67814286,  0.697     ,  0.69219048,  0.71042857,\n",
       "        0.70733333,  0.71509524,  0.70671429,  0.69609524,  0.68638095,\n",
       "        0.71609524,  0.7132381 ,  0.71095238,  0.70333333,  0.69328571,\n",
       "        0.70038095,  0.70561905,  0.70919048,  0.695     ,  0.69233333,\n",
       "        0.68809524,  0.69238095,  0.69038095,  0.69452381,  0.69728571,\n",
       "        0.69947619,  0.703     ,  0.69728571,  0.69580952,  0.69585714,\n",
       "        0.69947619,  0.698     ,  0.69728571,  0.70152381,  0.70138095,\n",
       "        0.70357143,  0.70785714])"
      ]
     },
     "execution_count": 13,
     "metadata": {},
     "output_type": "execute_result"
    }
   ],
   "source": [
    "score_record"
   ]
  },
  {
   "cell_type": "code",
   "execution_count": null,
   "metadata": {
    "collapsed": true
   },
   "outputs": [],
   "source": []
  }
 ],
 "metadata": {
  "kernelspec": {
   "display_name": "Python 2",
   "language": "python",
   "name": "python2"
  },
  "language_info": {
   "codemirror_mode": {
    "name": "ipython",
    "version": 2
   },
   "file_extension": ".py",
   "mimetype": "text/x-python",
   "name": "python",
   "nbconvert_exporter": "python",
   "pygments_lexer": "ipython2",
   "version": "2.7.12"
  }
 },
 "nbformat": 4,
 "nbformat_minor": 1
}
