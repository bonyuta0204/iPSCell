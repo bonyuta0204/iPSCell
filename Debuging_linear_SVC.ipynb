{
 "cells": [
  {
   "cell_type": "code",
   "execution_count": 13,
   "metadata": {
    "collapsed": true
   },
   "outputs": [],
   "source": [
    "import pandas as pd\n",
    "import numpy as np\n",
    "import matplotlib.pyplot as plt\n",
    "import os\n",
    "import pickle\n",
    "import sys\n",
    "from itertools import product\n",
    "from time import time\n",
    "\n",
    "import numpy as np\n",
    "from sklearn.svm import LinearSVC\n",
    "from sklearn.preprocessing import StandardScaler\n",
    "from sklearn.cross_validation import train_test_split\n",
    "from sklearn.linear_model import LinearRegression\n",
    "from sklearn.linear_model import LogisticRegression\n",
    "from sklearn.svm import LinearSVC\n",
    "\n",
    "sys.path.append('/home/share/libraries/bdpy/')\n",
    "import bdpy\n",
    "from bdpy.preproc import select_top\n",
    "from bdpy.ml import add_bias,make_cvindex\n",
    "from bdpy.stats import corrcoef\n",
    "sys.path.append('/home/shirakawa/kspy/')\n",
    "import cal_mean_ci\n",
    "\n"
   ]
  },
  {
   "cell_type": "markdown",
   "metadata": {},
   "source": [
    "# Nakamura"
   ]
  },
  {
   "cell_type": "code",
   "execution_count": 8,
   "metadata": {
    "collapsed": true
   },
   "outputs": [],
   "source": [
    "v_spec = np.load(\"ventricle_spectrum.npy\")\n",
    "a_spec = np.load(\"article_spectrum.npy\")\n",
    "# list for sampling features\n",
    "NUM_FEATURES = [i for i in range(1, 100)] + [i * 50 for i in range(2, 45)]"
   ]
  },
  {
   "cell_type": "code",
   "execution_count": 9,
   "metadata": {
    "collapsed": true
   },
   "outputs": [],
   "source": [
    "# ventricle: 0, article: 1\n",
    "# choose 71 samples from vertricle and make test data and label data\n",
    "def make_dataset(v_spec, a_spec):\n",
    "    \"\"\"\n",
    "    choose 71 samples from vertricle and make test data and label data\n",
    "    \"\"\"\n",
    "    N = a_spec.shape[0]\n",
    "    choice = np.random.choice(v_spec.shape[0], N)\n",
    "    v_spec_random = v_spec[choice]\n",
    "    data = np.vstack((v_spec_random, a_spec))\n",
    "    # create dataset and labels(v: 0, a:1)\n",
    "    label = label = np.array([0] * N + [1] * N)\n",
    "    return data, label"
   ]
  },
  {
   "cell_type": "code",
   "execution_count": 10,
   "metadata": {
    "collapsed": true
   },
   "outputs": [],
   "source": [
    "def cross_validation(data, label, n=10):\n",
    "    \"\"\"\n",
    "    return list of train_data, test_data, train_label, test_label\n",
    "    return\n",
    "        list: list of shape(n, 4)\n",
    "    \"\"\"\n",
    "    index = np.arange(data.shape[0])\n",
    "    index = index % n\n",
    "    cvindex = make_cvindex(index)\n",
    "    cvindex = np.array(cvindex)\n",
    "    cross_valid = []\n",
    "    for i in range(cvindex.shape[2]):\n",
    "        train_data = data[cvindex[0][:, i] == True]\n",
    "        test_data = data[cvindex[1][:, i] == True]\n",
    "        train_label = label[cvindex[0][:, i] == True]\n",
    "        test_label = label[cvindex[1][:, i] == True]\n",
    "        cross_valid.append((train_data, test_data, train_label, test_label))\n",
    "    return cross_valid"
   ]
  },
  {
   "cell_type": "code",
   "execution_count": 11,
   "metadata": {
    "collapsed": true
   },
   "outputs": [],
   "source": [
    "# use linar SVM and calculate the score\n",
    "def classify(train_data, test_data, train_label, test_label, n_features):\n",
    "    # scale data\n",
    "    scaler = StandardScaler()\n",
    "    scaler.fit(train_data)\n",
    "    scaled_train_data = scaler.transform(train_data)\n",
    "    scaled_test_data = scaler.transform(test_data)\n",
    "    # train classifier\n",
    "    clf = LinearSVC()\n",
    "    # use n_features\n",
    "    clf.fit(scaled_train_data[:, : n_features], train_label)\n",
    "    # get score\n",
    "    score = clf.score(scaled_test_data[:, :n_features], test_label)\n",
    "    return score"
   ]
  },
  {
   "cell_type": "code",
   "execution_count": 12,
   "metadata": {
    "collapsed": true
   },
   "outputs": [],
   "source": [
    "data, label = make_dataset(v_spec, a_spec)"
   ]
  },
  {
   "cell_type": "code",
   "execution_count": null,
   "metadata": {
    "collapsed": true
   },
   "outputs": [],
   "source": []
  },
  {
   "cell_type": "markdown",
   "metadata": {},
   "source": [
    "# Shirakawa"
   ]
  },
  {
   "cell_type": "code",
   "execution_count": 2,
   "metadata": {
    "collapsed": true
   },
   "outputs": [],
   "source": [
    "# loading data\n",
    "atrial = pd.read_csv(\"Atrial.csv\", header=None) # (time *  cell)\n",
    "ventricle = pd.read_csv(\"Ventricle.csv\",header = None) # time * cell)\n",
    "# transposing for training\n",
    "atrial = atrial.T\n",
    "ventricle = ventricle.T\n",
    "# get number of samples \n",
    "[N,c] = np.shape(atrial)\n",
    "[M,C] = np.shape(ventricle)\n",
    "\n",
    "aFPow = np.zeros(4500/2)\n",
    "vFPow = np.zeros(4500/2)\n",
    "featnum = len(aFPow)\n",
    "# get Power Spectrum\n",
    "for i in range(1,N):\n",
    "    \n",
    "    adata = atrial.iloc[i][3:].astype(float)\n",
    "    \n",
    "    F = np.fft.fft(adata)\n",
    "    aF = np.abs(F)**2\n",
    "    aF = aF[:featnum]\n",
    "    aFPow = np.vstack([aFPow,aF])\n",
    "aFPow = aFPow[1:,:]    \n",
    "\n",
    "for i in range(1,M):\n",
    "    \n",
    "    vdata = ventricle.iloc[i][3:].astype(float)\n",
    "    \n",
    "    F = np.fft.fft(vdata)\n",
    "    vF = np.abs(F)**2\n",
    "    vF = vF[:featnum]\n",
    "    vFPow = np.vstack([vFPow,vF])\n",
    "vFPow = vFPow[1:,:]    \n",
    "\n",
    "\n",
    "# get minimum for chance level is 50 % (-1 means datas' index exclude)\n",
    "n = np.min([N-1,M-1])"
   ]
  },
  {
   "cell_type": "code",
   "execution_count": 6,
   "metadata": {
    "collapsed": false
   },
   "outputs": [
    {
     "data": {
      "text/plain": [
       "array([[  5.96046448e-08,   0.00000000e+00,  -7.27595761e-12, ...,\n",
       "         -7.27595761e-12,  -7.27595761e-12,  -1.81898940e-11],\n",
       "       [  0.00000000e+00,   1.45519152e-11,  -1.74622983e-10, ...,\n",
       "         -1.81898940e-11,  -2.13162821e-13,   2.18278728e-11],\n",
       "       [  0.00000000e+00,   7.27595761e-12,  -4.36557457e-11, ...,\n",
       "          3.63797881e-12,  -9.09494702e-12,  -1.73372428e-12],\n",
       "       ..., \n",
       "       [  0.00000000e+00,  -1.09139364e-11,   0.00000000e+00, ...,\n",
       "          8.52651283e-14,  -4.54747351e-13,  -3.41060513e-13],\n",
       "       [  0.00000000e+00,  -2.72848411e-12,   0.00000000e+00, ...,\n",
       "         -1.36424205e-12,   2.72848411e-12,  -1.81898940e-12],\n",
       "       [  0.00000000e+00,   0.00000000e+00,   0.00000000e+00, ...,\n",
       "         -3.26849658e-13,   1.08357767e-13,   5.68434189e-14]])"
      ]
     },
     "execution_count": 6,
     "metadata": {},
     "output_type": "execute_result"
    }
   ],
   "source": [
    "vFPow - v_spec"
   ]
  },
  {
   "cell_type": "code",
   "execution_count": 7,
   "metadata": {
    "collapsed": false
   },
   "outputs": [
    {
     "data": {
      "text/plain": [
       "array([[  0.00000000e+00,   5.45696821e-12,  -2.91038305e-11, ...,\n",
       "         -7.27595761e-12,  -1.45519152e-11,   1.45519152e-11],\n",
       "       [  0.00000000e+00,   0.00000000e+00,   0.00000000e+00, ...,\n",
       "          7.27595761e-12,   5.09317033e-11,   3.27418093e-11],\n",
       "       [  0.00000000e+00,  -2.91038305e-11,   0.00000000e+00, ...,\n",
       "          0.00000000e+00,  -5.00222086e-12,   2.72848411e-12],\n",
       "       ..., \n",
       "       [  0.00000000e+00,  -1.09139364e-11,   2.18278728e-11, ...,\n",
       "         -9.09494702e-13,  -2.50111043e-12,  -9.09494702e-13],\n",
       "       [  0.00000000e+00,   0.00000000e+00,   1.45519152e-11, ...,\n",
       "          4.43378667e-12,   5.25801624e-13,  -2.55795385e-13],\n",
       "       [  0.00000000e+00,   0.00000000e+00,  -9.09494702e-13, ...,\n",
       "          5.68434189e-13,   2.41584530e-13,  -6.11066753e-13]])"
      ]
     },
     "execution_count": 7,
     "metadata": {},
     "output_type": "execute_result"
    }
   ],
   "source": [
    "aFPow - a_spec"
   ]
  },
  {
   "cell_type": "code",
   "execution_count": null,
   "metadata": {
    "collapsed": true
   },
   "outputs": [],
   "source": []
  }
 ],
 "metadata": {
  "kernelspec": {
   "display_name": "Python 2",
   "language": "python",
   "name": "python2"
  },
  "language_info": {
   "codemirror_mode": {
    "name": "ipython",
    "version": 2
   },
   "file_extension": ".py",
   "mimetype": "text/x-python",
   "name": "python",
   "nbconvert_exporter": "python",
   "pygments_lexer": "ipython2",
   "version": "2.7.12"
  }
 },
 "nbformat": 4,
 "nbformat_minor": 0
}
